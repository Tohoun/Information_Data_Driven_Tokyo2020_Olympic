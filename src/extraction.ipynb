{
 "cells": [
  {
   "cell_type": "markdown",
   "metadata": {},
   "source": [
    "# Preparation of data\n",
    "This section will consist to exatct and transform data to be ready to upload in data warehouse\n"
   ]
  },
  {
   "cell_type": "code",
   "execution_count": 1,
   "metadata": {},
   "outputs": [],
   "source": [
    "# Import all needed packages or modules\n",
    "from pyspark.sql import *\n",
    "from pyspark.sql.functions import *\n",
    "from datetime import datetime, date\n",
    "import pandas as pd"
   ]
  },
  {
   "cell_type": "code",
   "execution_count": 2,
   "metadata": {},
   "outputs": [],
   "source": [
    "# Creation of spark Session\n",
    "spark = SparkSession.builder.getOrCreate()"
   ]
  },
  {
   "cell_type": "markdown",
   "metadata": {},
   "source": [
    "## 1. Extraction of data"
   ]
  },
  {
   "cell_type": "code",
   "execution_count": 3,
   "metadata": {},
   "outputs": [],
   "source": [
    "# Import all data from your device or github. \n",
    "# In my case i downlad data in my device then i precise the path of the folder in my device\n",
    "path1 =\"E:/Learning/repos/Information_Data_Driven_Tokyo2020_Olympic/\"\n",
    "\n",
    "## Althletes data\n",
    "url1 =path1+\"data/raw/athletes.csv\"\n",
    "df0_athletes = spark.read.format(\"csv\")\\\n",
    "                            .option(\"header\",True)\\\n",
    "                            .load(url1)\n",
    "\n",
    "## Coaches data\n",
    "url2 =path1+\"data/raw/coaches.csv\"\n",
    "df0_coaches = spark.read.format(\"csv\")\\\n",
    "                            .option(\"header\",True)\\\n",
    "                            .load(url2)\n",
    "\n",
    "## Medals data\n",
    "url3 =path1+\"data/raw/medals.csv\"\n",
    "df0_medals = spark.read.format(\"csv\")\\\n",
    "                            .option(\"header\",True)\\\n",
    "                            .load(url3)\n",
    "\n",
    "## country data\n",
    "url4 =path1+\"data/raw/all.csv\"\n",
    "df0_countries = spark.read.format(\"csv\")\\\n",
    "                            .option(\"header\",True)\\\n",
    "                            .load(url4)"
   ]
  },
  {
   "cell_type": "markdown",
   "metadata": {},
   "source": [
    "We don't need all columns in each dataset and also to avoid redondance data in our warehouse we need to code somme data like names of althletes reapet in athletes data and medals also the discipline's name repeat in all 3 datasets."
   ]
  },
  {
   "cell_type": "code",
   "execution_count": 8,
   "metadata": {},
   "outputs": [],
   "source": [
    "## Columns need in Athletes dataset\n",
    "df1_athletes = df0_athletes[\"name\",\"gender\",\"birth_date\",\"country_code\",\"discipline_code\"]\n",
    "\n",
    "## Columns need in Coaches dataset\n",
    "df1_coaches = df0_coaches[\"name\",\"gender\",\"birth_date\",\"country_code\",\"discipline\",\"function\"]\n",
    "\n",
    "## Columns need in Medals dataset\n",
    "df1_medals = df0_medals[\"medal_code\",\"medal_date\",\"athlete_name\",\"country_code\",\"discipline_code\",\"event\"]\n",
    "\n",
    "## Columns need in countries dataset\n",
    "df1_countries = df0_countries[\"name\",\"alpha-3\",\"region\",\"sub-region\"]"
   ]
  },
  {
   "cell_type": "code",
   "execution_count": 5,
   "metadata": {},
   "outputs": [
    {
     "name": "stdout",
     "output_type": "stream",
     "text": [
      "root\n",
      " |-- name: string (nullable = true)\n",
      " |-- gender: string (nullable = true)\n",
      " |-- birth_date: string (nullable = true)\n",
      " |-- country_code: string (nullable = true)\n",
      " |-- discipline_code: string (nullable = true)\n",
      "\n",
      "root\n",
      " |-- name: string (nullable = true)\n",
      " |-- gender: string (nullable = true)\n",
      " |-- birth_date: string (nullable = true)\n",
      " |-- country_code: string (nullable = true)\n",
      " |-- discipline: string (nullable = true)\n",
      " |-- function: string (nullable = true)\n",
      "\n",
      "root\n",
      " |-- medal_code: string (nullable = true)\n",
      " |-- medal_date: string (nullable = true)\n",
      " |-- athlete_name: string (nullable = true)\n",
      " |-- country_code: string (nullable = true)\n",
      " |-- discipline_code: string (nullable = true)\n",
      " |-- event: string (nullable = true)\n",
      "\n"
     ]
    }
   ],
   "source": [
    "## Structure of dataframe before convert\n",
    "df1_athletes.printSchema()\n",
    "df1_coaches.printSchema()\n",
    "df1_medals.printSchema()"
   ]
  },
  {
   "cell_type": "markdown",
   "metadata": {},
   "source": [
    "## 2. Tranformation of data"
   ]
  },
  {
   "cell_type": "code",
   "execution_count": 9,
   "metadata": {},
   "outputs": [],
   "source": [
    "## convert birth_date from string to date\n",
    "df1_athletes = df1_athletes.withColumn(\"birth_date\",to_date(col(\"birth_date\"),\"yyyy-MM-dd\"))\n",
    "df1_coaches = df1_coaches.withColumn(\"birth_date\",to_date(col(\"birth_date\"),\"yyyy-MM-dd\"))\n",
    "df1_medals = df1_medals.withColumn(\"medal_date\",split(df1_medals[\"medal_date\"],\" \").getItem(0))\\\n",
    "                        .withColumn(\"medal_date\",to_date(col(\"medal_date\"),\"yyyy-MM-dd\"))"
   ]
  },
  {
   "cell_type": "code",
   "execution_count": 10,
   "metadata": {},
   "outputs": [
    {
     "name": "stdout",
     "output_type": "stream",
     "text": [
      "root\n",
      " |-- name: string (nullable = true)\n",
      " |-- gender: string (nullable = true)\n",
      " |-- birth_date: date (nullable = true)\n",
      " |-- country_code: string (nullable = true)\n",
      " |-- discipline_code: string (nullable = true)\n",
      "\n",
      "root\n",
      " |-- name: string (nullable = true)\n",
      " |-- gender: string (nullable = true)\n",
      " |-- birth_date: date (nullable = true)\n",
      " |-- country_code: string (nullable = true)\n",
      " |-- discipline: string (nullable = true)\n",
      " |-- function: string (nullable = true)\n",
      "\n",
      "root\n",
      " |-- medal_code: string (nullable = true)\n",
      " |-- medal_date: date (nullable = true)\n",
      " |-- athlete_name: string (nullable = true)\n",
      " |-- country_code: string (nullable = true)\n",
      " |-- discipline_code: string (nullable = true)\n",
      " |-- event: string (nullable = true)\n",
      "\n"
     ]
    }
   ],
   "source": [
    "## Structure of dataframe after convert\n",
    "df1_athletes.printSchema()\n",
    "df1_coaches.printSchema()\n",
    "df1_medals.printSchema()"
   ]
  },
  {
   "cell_type": "code",
   "execution_count": 11,
   "metadata": {},
   "outputs": [
    {
     "name": "stdout",
     "output_type": "stream",
     "text": [
      "+----------+----------+-------------------+------------+---------------+--------------------+\n",
      "|medal_code|medal_date|       athlete_name|country_code|discipline_code|               event|\n",
      "+----------+----------+-------------------+------------+---------------+--------------------+\n",
      "|         1|2021-07-24|        KIM Je Deok|         KOR|            ARC|          Mixed Team|\n",
      "|         1|2021-07-24|             AN San|         KOR|            ARC|          Mixed Team|\n",
      "|         2|2021-07-24|SCHLOESSER Gabriela|         NED|            ARC|          Mixed Team|\n",
      "|         2|2021-07-24|       WIJLER Steve|         NED|            ARC|          Mixed Team|\n",
      "|         3|2021-07-24|       ALVAREZ Luis|         MEX|            ARC|          Mixed Team|\n",
      "|         3|2021-07-24| VALENCIA Alejandra|         MEX|            ARC|          Mixed Team|\n",
      "|         1|2021-07-24|    CARAPAZ Richard|         ECU|            CRD|     Men's Road Race|\n",
      "|         2|2021-07-24|      van AERT Wout|         BEL|            CRD|     Men's Road Race|\n",
      "|         3|2021-07-24|      POGACAR Tadej|         SLO|            CRD|     Men's Road Race|\n",
      "|         1|2021-07-24|      SZILAGYI Aron|         HUN|            FEN|Men's Sabre Indiv...|\n",
      "|         2|2021-07-24|       SAMELE Luigi|         ITA|            FEN|Men's Sabre Indiv...|\n",
      "|         3|2021-07-24|       KIM Junghwan|         KOR|            FEN|Men's Sabre Indiv...|\n",
      "|         1|2021-07-24|          SUN Yiwen|         CHN|            FEN|Women's &Eacute;p...|\n",
      "|         2|2021-07-24|  POPESCU Ana Maria|         ROU|            FEN|Women's &Eacute;p...|\n",
      "|         3|2021-07-24|      LEHIS Katrina|         EST|            FEN|Women's &Eacute;p...|\n",
      "|         1|2021-07-24|     TAKATO Naohisa|         JPN|            JUD|          Men -60 kg|\n",
      "|         2|2021-07-24|      YANG Yung Wei|         TPE|            JUD|          Men -60 kg|\n",
      "|         3|2021-07-24|      MKHEIDZE Luka|         FRA|            JUD|          Men -60 kg|\n",
      "|         3|2021-07-24|      SMETOV Yeldos|         KAZ|            JUD|          Men -60 kg|\n",
      "|         1|2021-07-24|   KRASNIQI Distria|         KOS|            JUD|        Women -48 kg|\n",
      "+----------+----------+-------------------+------------+---------------+--------------------+\n",
      "only showing top 20 rows\n",
      "\n"
     ]
    }
   ],
   "source": [
    "df1_medals.show()"
   ]
  }
 ],
 "metadata": {
  "kernelspec": {
   "display_name": "Python 3",
   "language": "python",
   "name": "python3"
  },
  "language_info": {
   "codemirror_mode": {
    "name": "ipython",
    "version": 3
   },
   "file_extension": ".py",
   "mimetype": "text/x-python",
   "name": "python",
   "nbconvert_exporter": "python",
   "pygments_lexer": "ipython3",
   "version": "3.11.5"
  },
  "orig_nbformat": 4
 },
 "nbformat": 4,
 "nbformat_minor": 2
}
